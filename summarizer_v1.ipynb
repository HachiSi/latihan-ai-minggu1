{
  "nbformat": 4,
  "nbformat_minor": 0,
  "metadata": {
    "colab": {
      "provenance": [],
      "authorship_tag": "ABX9TyOSYrxJPEZyRfz5ZAwPFkNa",
      "include_colab_link": true
    },
    "kernelspec": {
      "name": "python3",
      "display_name": "Python 3"
    },
    "language_info": {
      "name": "python"
    }
  },
  "cells": [
    {
      "cell_type": "markdown",
      "metadata": {
        "id": "view-in-github",
        "colab_type": "text"
      },
      "source": [
        "<a href=\"https://colab.research.google.com/github/HachiSi/latihan-ai-minggu1/blob/main/summarizer_v1.ipynb\" target=\"_parent\"><img src=\"https://colab.research.google.com/assets/colab-badge.svg\" alt=\"Open In Colab\"/></a>"
      ]
    },
    {
      "cell_type": "code",
      "source": [
        "from transformers import pipeline\n",
        "\n",
        "# Panggil model summarizer\n",
        "summarizer = pipeline(\"summarization\")\n",
        "\n",
        "# Input dari user\n",
        "text = input(\"Masukkan teks yang ingin diringkas:\\n\")\n",
        "\n",
        "# Proses summarizer\n",
        "summary = summarizer(text, max_length=130, min_length=30, do_sample=False)\n",
        "\n",
        "# Output ke user\n",
        "print(\"\\n--- Ringkasan oleh AI HachiSi ---\\n\")\n",
        "print(summary[0]['summary_text'])\n",
        "\n",
        "# Tambahan info kata\n",
        "print(\"\\nJumlah kata asli:\", len(text.split()))\n",
        "print(\"Jumlah kata ringkasan:\", len(summary[0]['summary_text'].split()))\n",
        "\n",
        "# Misah teks jadi tiap 1000 karakter\n",
        "chunks = [text[i:i+1000] for i in range(0, len(text), 1000)]\n",
        "\n",
        "for i, chunk in enumerate(chunks):\n",
        "    result = summarizer(chunk, max_length=130, min_length=30, do_sample=False)\n",
        "    print(f\"\\nRingkasan Bagian {i+1}:\\n\", result[0]['summary_text'])"
      ],
      "metadata": {
        "colab": {
          "base_uri": "https://localhost:8080/"
        },
        "id": "TJqEtqXsAqVj",
        "outputId": "274e19c4-1dea-411a-ef83-c8cb9020f1fd"
      },
      "execution_count": 5,
      "outputs": [
        {
          "output_type": "stream",
          "name": "stderr",
          "text": [
            "No model was supplied, defaulted to sshleifer/distilbart-cnn-12-6 and revision a4f8f3e (https://huggingface.co/sshleifer/distilbart-cnn-12-6).\n",
            "Using a pipeline without specifying a model name and revision in production is not recommended.\n",
            "Device set to use cpu\n"
          ]
        },
        {
          "output_type": "stream",
          "name": "stdout",
          "text": [
            "Masukkan teks yang ingin diringkas:\n",
            "Rumah tangga keluarga adalah salah satu pelaku ekonomi dalam suatu sistem perekonomian yang terdiri atas individu atau sekelompok orang yang tinggal bersama dalam satu tempat tinggal dan memiliki hubungan darah, perkawinan, atau adopsi, serta melakukan kegiatan konsumsi barang dan jasa untuk memenuhi kebutuhan hidup sehari-hari.  Rumah tangga keluarga juga berperan sebagai penyedia faktor-faktor produksi, seperti tenaga kerja, tanah, modal, dan kewirausahaan, yang kemudian disalurkan kepada pelaku ekonomi lainnya seperti perusahaan atau pemerintah. Sebagai imbalannya, rumah tangga keluarga memperoleh penghasilan berupa upah, sewa, bunga, dan laba yang digunakan kembali untuk kegiatan konsumsi dan menabung.\n",
            "\n",
            "--- Ringkasan oleh AI HachiSi ---\n",
            "\n",
            " Rumah tangga keluarga adalah salah satu pelaku ekonomi dalam suatu sistem perekonomian yang terdiri atas individu atau sekelompok orang yang tinggal bersama . Melakukan kegiatan konsumsi barang dan jasa untuk memenuhi kebutuhan hidup sehari-hari .\n",
            "\n",
            "Jumlah kata asli: 93\n",
            "Jumlah kata ringkasan: 35\n",
            "\n",
            "Ringkasan Bagian 1:\n",
            "  Rumah tangga keluarga adalah salah satu pelaku ekonomi dalam suatu sistem perekonomian yang terdiri atas individu atau sekelompok orang yang tinggal bersama . Melakukan kegiatan konsumsi barang dan jasa untuk memenuhi kebutuhan hidup sehari-hari .\n"
          ]
        }
      ]
    }
  ]
}