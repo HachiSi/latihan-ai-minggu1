{
  "cells": [
    {
      "cell_type": "markdown",
      "metadata": {
        "id": "view-in-github",
        "colab_type": "text"
      },
      "source": [
        "<a href=\"https://colab.research.google.com/github/HachiSi/latihan-ai-minggu1/blob/main/summarizer_v1.ipynb\" target=\"_parent\"><img src=\"https://colab.research.google.com/assets/colab-badge.svg\" alt=\"Open In Colab\"/></a>"
      ]
    },
    {
      "cell_type": "code",
      "execution_count": null,
      "metadata": {
        "colab": {
          "background_save": true,
          "base_uri": "https://localhost:8080/"
        },
        "id": "ieijDd_t92Eq",
        "outputId": "31ffde55-66a4-4942-868d-e2e912e42452"
      },
      "outputs": [
        {
          "name": "stderr",
          "output_type": "stream",
          "text": [
            "Device set to use cpu\n"
          ]
        },
        {
          "name": "stdout",
          "output_type": "stream",
          "text": [
            "\n",
            "--- RINGKASAN AI HACHI SI ---\n",
            "\n",
            "Bagian 1:\n",
            " Grafik ini merupakakan indikator on-chain yang mengukur seberapa panas Bitcoin secara relatif terhadap rata-rata historis jangka panjang dengan mengacu pada Moving Average 4 Tahun . Garis putih menampilkan harga aktual BTC, sedangkan garis biru adalah 4-Year Moving Average .\n",
            "\n",
            "Jumlah kata asli: 137\n",
            "Jumlah kata ringkasan: 41\n"
          ]
        }
      ],
      "source": [
        "from transformers import pipeline\n",
        "\n",
        "# Load model satu kali di atas\n",
        "summarizer = pipeline(\"summarization\", model=\"sshleifer/distilbart-cnn-12-6\")\n",
        "\n",
        "# Pecah teks jadi chunk kata\n",
        "def split_into_chunks(text, max_words=500):\n",
        "    words = text.split()\n",
        "    chunks = [' '.join(words[i:i+max_words]) for i in range(0, len(words), max_words)]\n",
        "    return chunks\n",
        "\n",
        "# Fungsi utama\n",
        "def ringkas_teks():\n",
        "    text = input(\"Masukkan teks panjang:\\n\")\n",
        "    chunks = split_into_chunks(text)\n",
        "\n",
        "    result_list = []\n",
        "    for i, chunk in enumerate(chunks):\n",
        "        result = summarizer(chunk, max_length=150, min_length=50, do_sample=False)\n",
        "        ringkasan = result[0]['summary_text']\n",
        "        result_list.append(f\"Bagian {i+1}:\\n{ringkasan}\")\n",
        "\n",
        "    full_summary = \"\\n\\n\".join(result_list)\n",
        "\n",
        "    # Simpan hasil\n",
        "    with open(\"ringkasan.txt\", \"w\") as f:\n",
        "        f.write(\"Ringkasan oleh AI HachiSi\\n\\n\")\n",
        "        f.write(full_summary)\n",
        "\n",
        "    # Tampilkan\n",
        "    print(\"\\n--- RINGKASAN AI HACHI SI ---\\n\")\n",
        "    print(full_summary)\n",
        "    print(\"\\nJumlah kata asli:\", len(text.split()))\n",
        "    print(\"Jumlah kata ringkasan:\", len(full_summary.split()))\n",
        "\n",
        "# Panggil fungsi\n",
        "while True:\n",
        "    ringkas_teks()\n",
        "    lagi = input(\"\\nMau ringkas lagi? (y/n): \")\n",
        "    if lagi.lower() != 'y':\n",
        "        break"
      ]
    }
  ],
  "metadata": {
    "colab": {
      "provenance": [],
      "authorship_tag": "ABX9TyMvTT822lXCfx6qwrR0eRN5",
      "include_colab_link": true
    },
    "kernelspec": {
      "display_name": "Python 3",
      "name": "python3"
    },
    "language_info": {
      "name": "python"
    }
  },
  "nbformat": 4,
  "nbformat_minor": 0
}