{
  "nbformat": 4,
  "nbformat_minor": 0,
  "metadata": {
    "colab": {
      "provenance": [],
      "authorship_tag": "ABX9TyOiEudCe3+2BKg+FV4xVvSn",
      "include_colab_link": true
    },
    "kernelspec": {
      "name": "python3",
      "display_name": "Python 3"
    },
    "language_info": {
      "name": "python"
    }
  },
  "cells": [
    {
      "cell_type": "markdown",
      "metadata": {
        "id": "view-in-github",
        "colab_type": "text"
      },
      "source": [
        "<a href=\"https://colab.research.google.com/github/HachiSi/latihan-ai-minggu1/blob/main/Latihan_Minggu_1.ipynb\" target=\"_parent\"><img src=\"https://colab.research.google.com/assets/colab-badge.svg\" alt=\"Open In Colab\"/></a>"
      ]
    },
    {
      "cell_type": "code",
      "source": [
        "# Define and initialize the variables angka1 and angka2\n",
        "angka1 = 1\n",
        "angka2 = 2\n",
        "\n",
        "# Calculate the sum of angka1 and angka2 and assign it to the variable hasil\n",
        "hasil = angka1 + angka2\n",
        "\n",
        "# Print the result\n",
        "print(\"Hasil penjumlahan:\", hasil)\n",
        "teman = [\"Budi\",\"Andi\",\"Caca\",\"Dika\"]\n",
        "print(\"Teman-teman gua:\", teman)\n",
        "\n",
        "for nama in teman:\n",
        "    print(\"Halo,\",nama)"
      ],
      "metadata": {
        "colab": {
          "base_uri": "https://localhost:8080/"
        },
        "id": "Q_yBbzzLCcV8",
        "outputId": "7dc516cb-b9c9-43db-c66a-12cc0f19632a"
      },
      "execution_count": 7,
      "outputs": [
        {
          "output_type": "stream",
          "name": "stdout",
          "text": [
            "Hasil penjumlahan: 3\n",
            "Teman-teman gua: ['Budi', 'Andi', 'Caca', 'Dika']\n",
            "Halo, Budi\n",
            "Halo, Andi\n",
            "Halo, Caca\n",
            "Halo, Dika\n"
          ]
        }
      ]
    },
    {
      "cell_type": "code",
      "source": [],
      "metadata": {
        "id": "C7L-kODCNBLS"
      },
      "execution_count": null,
      "outputs": []
    }
  ]
}