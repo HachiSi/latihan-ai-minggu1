{
  "nbformat": 4,
  "nbformat_minor": 0,
  "metadata": {
    "colab": {
      "provenance": [],
      "authorship_tag": "ABX9TyPAd519CxoJCPW14LJoOgUw",
      "include_colab_link": true
    },
    "kernelspec": {
      "name": "python3",
      "display_name": "Python 3"
    },
    "language_info": {
      "name": "python"
    }
  },
  "cells": [
    {
      "cell_type": "markdown",
      "metadata": {
        "id": "view-in-github",
        "colab_type": "text"
      },
      "source": [
        "<a href=\"https://colab.research.google.com/github/HachiSi/latihan-ai-minggu1/blob/main/Latihan_Minggu_1.ipynb\" target=\"_parent\"><img src=\"https://colab.research.google.com/assets/colab-badge.svg\" alt=\"Open In Colab\"/></a>"
      ]
    },
    {
      "cell_type": "code",
      "source": [
        "# Define and initialize the variables angka1 and angka2\n",
        "angka1 = 1\n",
        "angka2 = 2\n",
        "\n",
        "# Calculate the sum of angka1 and angka2 and assign it to the variable hasil\n",
        "hasil = angka1 + angka2\n",
        "\n",
        "# Print the result\n",
        "print(\"Hasil penjumlahan:\", hasil)\n",
        "teman = [\"Budi\",\"Andi\",\"Caca\",\"Dika\"]\n",
        "print(\"Teman-teman gua:\", teman)\n",
        "\n",
        "for nama in teman:\n",
        "    print(\"Halo,\",nama)"
      ],
      "metadata": {
        "colab": {
          "base_uri": "https://localhost:8080/"
        },
        "id": "Q_yBbzzLCcV8",
        "outputId": "7dc516cb-b9c9-43db-c66a-12cc0f19632a"
      },
      "execution_count": null,
      "outputs": [
        {
          "output_type": "stream",
          "name": "stdout",
          "text": [
            "Hasil penjumlahan: 3\n",
            "Teman-teman gua: ['Budi', 'Andi', 'Caca', 'Dika']\n",
            "Halo, Budi\n",
            "Halo, Andi\n",
            "Halo, Caca\n",
            "Halo, Dika\n"
          ]
        }
      ]
    },
    {
      "cell_type": "code",
      "source": [
        "def cek_genap_ganjil (angka):\n",
        "    if angka % 2 == 0:\n",
        "        print(angka, \"adalah bilangan genap\")\n",
        "    else:\n",
        "       print(angka, \"adalah bilangan ganjil\")\n",
        "cek_genap_ganjil(10)\n",
        "def cek_genap_ganjil (angka):\n",
        "    if angka % 2 == 0:\n",
        "        print(angka, \"adalah bilangan genap\")\n",
        "    else:\n",
        "       print(angka, \"adalah bilangan ganjil\")\n",
        "cek_genap_ganjil(10)\n",
        "cek_genap_ganjil(7)\n",
        "# This else statement was incorrectly indented.\n",
        "\n",
        "cek_genap_ganjil(10)\n",
        "cek_genap_ganjil(7)\n",
        "cek_genap_ganjil(7)\n",
        "\n",
        "for i in range(1,11):\n",
        "    cek_genap_ganjil(i)"
      ],
      "metadata": {
        "id": "C7L-kODCNBLS",
        "colab": {
          "base_uri": "https://localhost:8080/"
        },
        "outputId": "f5f66ca4-136f-453c-e443-eaf7f2f8adaa"
      },
      "execution_count": 13,
      "outputs": [
        {
          "output_type": "stream",
          "name": "stdout",
          "text": [
            "10 adalah bilangan genap\n",
            "10 adalah bilangan genap\n",
            "7 adalah bilangan ganjil\n",
            "10 adalah bilangan genap\n",
            "7 adalah bilangan ganjil\n",
            "7 adalah bilangan ganjil\n",
            "1 adalah bilangan ganjil\n",
            "2 adalah bilangan genap\n",
            "3 adalah bilangan ganjil\n",
            "4 adalah bilangan genap\n",
            "5 adalah bilangan ganjil\n",
            "6 adalah bilangan genap\n",
            "7 adalah bilangan ganjil\n",
            "8 adalah bilangan genap\n",
            "9 adalah bilangan ganjil\n",
            "10 adalah bilangan genap\n"
          ]
        }
      ]
    }
  ]
}